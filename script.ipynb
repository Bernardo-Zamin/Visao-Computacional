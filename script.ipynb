{
 "cells": [
  {
   "cell_type": "code",
   "execution_count": 1,
   "metadata": {},
   "outputs": [],
   "source": [
    "import os\n",
    "import cv2\n",
    "import numpy as np\n",
    "import matplotlib.pyplot as plt\n"
   ]
  },
  {
   "cell_type": "code",
   "execution_count": 5,
   "metadata": {},
   "outputs": [
    {
     "data": {
      "text/plain": [
       "['IMG_2561.jpg',\n",
       " 'IMG_4529.jpg',\n",
       " 'IMG_2565.jpg',\n",
       " 'IMG_4538.jpg',\n",
       " 'IMG_2516.jpg',\n",
       " 'IMG_2503.jpg',\n",
       " 'IMG_2463.jpg',\n",
       " 'IMG_2464.jpg',\n",
       " 'IMG_2467.jpg',\n",
       " 'IMG_2466.jpg',\n",
       " 'IMG_2499.jpg',\n",
       " 'IMG_2537.jpg',\n",
       " 'IMG_2532.jpg',\n",
       " 'IMG_2542.jpg',\n",
       " 'IMG_4532.jpg',\n",
       " 'IMG_4530.jpg',\n",
       " 'IMG_4531.jpg']"
      ]
     },
     "execution_count": 5,
     "metadata": {},
     "output_type": "execute_result"
    }
   ],
   "source": [
    "# Mostrando as imagens originais e as imagens com BLUR\n",
    "images_path = \"/Users/bernardozamin/Documents/T1-VisaoComputacional/data\"\n",
    "images = [img for img in os.listdir(images_path) if img != \".DS_Store\"]\n",
    "\n",
    "images = list(filter(lambda x: x.endswith('.jpg'), images))\n",
    "images\n"
   ]
  },
  {
   "cell_type": "code",
   "execution_count": null,
   "metadata": {},
   "outputs": [],
   "source": [
    "'''\n",
    "map\n",
    "filter\n",
    "reduce\n",
    "'''"
   ]
  }
 ],
 "metadata": {
  "kernelspec": {
   "display_name": "opencv",
   "language": "python",
   "name": "python3"
  },
  "language_info": {
   "codemirror_mode": {
    "name": "ipython",
    "version": 3
   },
   "file_extension": ".py",
   "mimetype": "text/x-python",
   "name": "python",
   "nbconvert_exporter": "python",
   "pygments_lexer": "ipython3",
   "version": "3.9.18"
  }
 },
 "nbformat": 4,
 "nbformat_minor": 2
}
